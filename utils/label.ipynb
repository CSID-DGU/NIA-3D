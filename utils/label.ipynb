{
 "cells": [
  {
   "cell_type": "code",
   "execution_count": 2,
   "metadata": {},
   "outputs": [
    {
     "name": "stdout",
     "output_type": "stream",
     "text": [
      "['Floor', 'Wall', 'Ceiling', 'Column', 'Beam', 'Stairs', 'Railing', 'Ramp', 'Roof', 'Door', 'Window', 'Mullion', 'Bed', 'Table', 'Desk', 'Chair', 'Sofa', 'Storage closet', 'Partition', 'Fitness equipment', 'Tv', 'Air conditioner', 'Washing machine', 'Refrigerator', 'Vacuum cleaner', 'Lighting', 'Switch', 'Concentric plug', 'Rice pot', 'Dishwasher', 'Range', 'Hood', 'Oven', 'Coffee machine', 'Water purifier', 'Copy machine', 'Computer', 'Mixer', 'Fan', 'Phone', 'Toilet', 'Washbasin', 'Showerhead', 'Faucet', 'Bathtub', 'Sink', 'Fire', 'Crime prevention', 'Escalator']\n"
     ]
    }
   ],
   "source": [
    "f = open(\"label.txt\", \"r\")\n",
    "object = []\n",
    "while(True):\n",
    "    line  = f.readline().strip()\n",
    "    if not line:\n",
    "        break;\n",
    "    object.append(line)\n",
    "print(object)"
   ]
  },
  {
   "cell_type": "code",
   "execution_count": 3,
   "metadata": {},
   "outputs": [
    {
     "name": "stdout",
     "output_type": "stream",
     "text": [
      "[0, 1, 2, 3, 4, 5, 6, 7, 8, 9, 10, 11, 12, 13, 14, 15, 16, 17, 18, 19, 20, 21, 22, 23, 24, 25, 26, 27, 28, 29, 30, 31, 32, 33, 34, 35, 36, 37, 38, 39, 40, 41, 42, 43, 44, 45, 46, 47, 48]\n"
     ]
    }
   ],
   "source": [
    "index = []\n",
    "for i in range(len(object)):\n",
    "    index.append(i)\n",
    "print(index)"
   ]
  }
 ],
 "metadata": {
  "kernelspec": {
   "display_name": "Python 3",
   "language": "python",
   "name": "python3"
  },
  "language_info": {
   "codemirror_mode": {
    "name": "ipython",
    "version": 3
   },
   "file_extension": ".py",
   "mimetype": "text/x-python",
   "name": "python",
   "nbconvert_exporter": "python",
   "pygments_lexer": "ipython3",
   "version": "3.6.1"
  }
 },
 "nbformat": 4,
 "nbformat_minor": 2
}
