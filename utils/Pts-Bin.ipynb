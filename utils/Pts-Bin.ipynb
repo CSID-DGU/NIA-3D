{
 "cells": [
  {
   "cell_type": "code",
   "execution_count": 59,
   "id": "2e067c5f",
   "metadata": {
    "scrolled": true
   },
   "outputs": [],
   "source": [
    "import numpy as np\n",
    "import open3d as o3d\n",
    "from IPython.display import display\n",
    "import os\n",
    "from os import path as osp\n",
    "np.set_printoptions(precision=7)"
   ]
  },
  {
   "cell_type": "code",
   "execution_count": 83,
   "id": "74795ce2",
   "metadata": {
    "scrolled": true
   },
   "outputs": [
    {
     "name": "stdout",
     "output_type": "stream",
     "text": [
      "(9341983, 7)\n"
     ]
    }
   ],
   "source": [
    "f = open(\"Subsample_test.pts\", \"rt\", encoding = 'utf-8')\n",
    "points = []\n",
    "while True:\n",
    "    line = f.readline()\n",
    "    if not line: break;\n",
    "    points.append(line.strip().split(\" \"))\n",
    "npPoints = np.array(points)\n",
    "print(npPoints.shape)\n",
    "floatPoint = npPoints[:, 0:3].astype(float)\n",
    "intPoint = npPoints[:, 3:6].astype(int)"
   ]
  },
  {
   "cell_type": "code",
   "execution_count": 84,
   "id": "dd9d110c",
   "metadata": {},
   "outputs": [
    {
     "name": "stdout",
     "output_type": "stream",
     "text": [
      "[[ 1.4893000e-02 -2.1286621e+00 -1.6071780e+00]\n",
      " [-1.7392822e+01 -2.2094700e-01 -1.6442870e+00]\n",
      " [-1.7391357e+01 -2.3999000e-01 -1.6447750e+00]\n",
      " ...\n",
      " [ 7.3151860e+00  9.1833496e+00  1.0769775e+01]\n",
      " [ 7.2932129e+00  9.2097168e+00  1.0775635e+01]\n",
      " [ 7.2521968e+00  9.2482910e+00  1.0779541e+01]]\n",
      "[[ 70  70  58]\n",
      " [135 138 121]\n",
      " [143 136 126]\n",
      " ...\n",
      " [132 147 116]\n",
      " [132 143 126]\n",
      " [129 141 121]]\n"
     ]
    }
   ],
   "source": [
    "print(floatPoint)\n",
    "print(intPoint)"
   ]
  },
  {
   "cell_type": "code",
   "execution_count": 91,
   "id": "218da567",
   "metadata": {},
   "outputs": [
    {
     "name": "stdout",
     "output_type": "stream",
     "text": [
      "[[ 1.4893000e-02 -2.1286621e+00 -1.6071780e+00  7.0000000e+01\n",
      "   7.0000000e+01  5.8000000e+01]\n",
      " [-1.7392822e+01 -2.2094700e-01 -1.6442870e+00  1.3500000e+02\n",
      "   1.3800000e+02  1.2100000e+02]\n",
      " [-1.7391357e+01 -2.3999000e-01 -1.6447750e+00  1.4300000e+02\n",
      "   1.3600000e+02  1.2600000e+02]\n",
      " ...\n",
      " [ 7.3151860e+00  9.1833496e+00  1.0769775e+01  1.3200000e+02\n",
      "   1.4700000e+02  1.1600000e+02]\n",
      " [ 7.2932129e+00  9.2097168e+00  1.0775635e+01  1.3200000e+02\n",
      "   1.4300000e+02  1.2600000e+02]\n",
      " [ 7.2521968e+00  9.2482910e+00  1.0779541e+01  1.2900000e+02\n",
      "   1.4100000e+02  1.2100000e+02]]\n"
     ]
    }
   ],
   "source": [
    "binPoint = np.concatenate((floatPoint, intPoint), axis = 1, dtype=np.float32)\n",
    "print(binPoint)"
   ]
  },
  {
   "cell_type": "code",
   "execution_count": 87,
   "id": "f047eeb1",
   "metadata": {},
   "outputs": [
    {
     "name": "stdout",
     "output_type": "stream",
     "text": [
      "<class 'int'>\n"
     ]
    }
   ],
   "source": [
    "print(type(binPoint[0][3]))"
   ]
  },
  {
   "cell_type": "code",
   "execution_count": 92,
   "id": "cae9fe25",
   "metadata": {},
   "outputs": [],
   "source": [
    "file = open(\"Subsample_test.bin\", \"wb\")\n",
    "file.write(binPoint.flatten().tobytes())\n",
    "file.close()"
   ]
  },
  {
   "cell_type": "code",
   "execution_count": 93,
   "id": "0d8e797f",
   "metadata": {},
   "outputs": [
    {
     "name": "stdout",
     "output_type": "stream",
     "text": [
      "56051898\n"
     ]
    },
    {
     "data": {
      "text/plain": [
       "array([ 1.489300e-02, -2.128662e+00, -1.607178e+00, ...,  1.290000e+02,\n",
       "        1.410000e+02,  1.210000e+02], dtype=float32)"
      ]
     },
     "metadata": {},
     "output_type": "display_data"
    },
    {
     "name": "stdout",
     "output_type": "stream",
     "text": [
      "[[ 1.4893000e-02 -2.1286621e+00 -1.6071780e+00]\n",
      " [-1.7392822e+01 -2.2094700e-01 -1.6442870e+00]\n",
      " [-1.7391357e+01 -2.3999000e-01 -1.6447750e+00]\n",
      " ...\n",
      " [ 7.3151860e+00  9.1833496e+00  1.0769775e+01]\n",
      " [ 7.2932129e+00  9.2097168e+00  1.0775635e+01]\n",
      " [ 7.2521968e+00  9.2482910e+00  1.0779541e+01]]\n",
      "[[ 70.  70.  58.]\n",
      " [135. 138. 121.]\n",
      " [143. 136. 126.]\n",
      " ...\n",
      " [132. 147. 116.]\n",
      " [132. 143. 126.]\n",
      " [129. 141. 121.]]\n",
      "[ 1.489300e-02 -2.128662e+00 -1.607178e+00 ...  1.290000e+02  1.410000e+02\n",
      "  1.210000e+02]\n"
     ]
    }
   ],
   "source": [
    "bin_pcd = np.fromfile(\"Subsample_test.bin\", dtype=np.float32, sep='')\n",
    "print(len(bin_pcd))\n",
    "display(bin_pcd)\n",
    "xyz = bin_pcd.reshape(-1, 6)[:, 0:3]\n",
    "abc = np.asarray(bin_pcd.reshape((-1, 6))[:, 3:6])\n",
    "print(xyz)\n",
    "print(abc)\n",
    "points = np.concatenate((xyz,abc),  axis=1).flatten()\n",
    "\n",
    "print(points)"
   ]
  },
  {
   "cell_type": "code",
   "execution_count": 74,
   "id": "121deb67",
   "metadata": {},
   "outputs": [
    {
     "name": "stdout",
     "output_type": "stream",
     "text": [
      "244104\n"
     ]
    },
    {
     "data": {
      "text/plain": [
       "array([  3.0132768,   0.3554111,   2.0036542, ..., 152.       ,\n",
       "       149.       , 127.       ], dtype=float32)"
      ]
     },
     "metadata": {},
     "output_type": "display_data"
    },
    {
     "name": "stdout",
     "output_type": "stream",
     "text": [
      "[[3.0132768 0.3554111 2.0036542]\n",
      " [2.6280606 5.6003084 0.0533607]\n",
      " [1.4489927 6.2135987 0.0437175]\n",
      " ...\n",
      " [1.3723142 2.040032  0.3811319]\n",
      " [7.7034655 3.6945302 0.0348846]\n",
      " [4.101883  0.736234  2.1463373]]\n",
      "[[123. 104.  75.]\n",
      " [142. 112.  74.]\n",
      " [217. 193. 160.]\n",
      " ...\n",
      " [126. 133. 112.]\n",
      " [101.  89.  69.]\n",
      " [152. 149. 127.]]\n",
      "[  3.0132768   0.3554111   2.0036542 ... 152.        149.\n",
      " 127.       ]\n"
     ]
    }
   ],
   "source": [
    "bin_pcd = np.fromfile(\"scene.bin\", dtype=np.float32, sep='')\n",
    "print(len(bin_pcd))\n",
    "display(bin_pcd)\n",
    "xyz = bin_pcd.reshape(-1, 6)[:, 0:3]\n",
    "abc = np.asarray(bin_pcd.reshape((-1, 6))[:, 3:6])\n",
    "print(xyz)\n",
    "print(abc)\n",
    "points = np.concatenate((xyz,abc),  axis=1).flatten()\n",
    "\n",
    "print(points)\n",
    "file = open(\"scene2.bin\", \"wb\")\n",
    "file.write(points.tobytes())\n",
    "file.close()"
   ]
  },
  {
   "cell_type": "code",
   "execution_count": 76,
   "id": "7ed8a288",
   "metadata": {},
   "outputs": [
    {
     "name": "stdout",
     "output_type": "stream",
     "text": [
      "244104\n"
     ]
    },
    {
     "data": {
      "text/plain": [
       "array([  3.0132768,   0.3554111,   2.0036542, ..., 152.       ,\n",
       "       149.       , 127.       ], dtype=float32)"
      ]
     },
     "metadata": {},
     "output_type": "display_data"
    },
    {
     "name": "stdout",
     "output_type": "stream",
     "text": [
      "[[3.0132768 0.3554111 2.0036542]\n",
      " [2.6280606 5.6003084 0.0533607]\n",
      " [1.4489927 6.2135987 0.0437175]\n",
      " ...\n",
      " [1.3723142 2.040032  0.3811319]\n",
      " [7.7034655 3.6945302 0.0348846]\n",
      " [4.101883  0.736234  2.1463373]]\n",
      "[[123. 104.  75.]\n",
      " [142. 112.  74.]\n",
      " [217. 193. 160.]\n",
      " ...\n",
      " [126. 133. 112.]\n",
      " [101.  89.  69.]\n",
      " [152. 149. 127.]]\n",
      "[  3.0132768   0.3554111   2.0036542 ... 152.        149.\n",
      " 127.       ]\n"
     ]
    }
   ],
   "source": [
    "bin_pcd = np.fromfile(\"scene.bin\", dtype=np.float32, sep='')\n",
    "print(len(bin_pcd))\n",
    "display(bin_pcd)\n",
    "xyz = bin_pcd.reshape(-1, 6)[:, 0:3]\n",
    "abc = np.asarray(bin_pcd.reshape((-1, 6))[:, 3:6])\n",
    "print(xyz)\n",
    "print(abc)\n",
    "points = np.concatenate((xyz,abc),  axis=1).flatten()\n",
    "\n",
    "print(points)\n",
    "points.tofile(\"scene3.bin\")"
   ]
  },
  {
   "cell_type": "code",
   "execution_count": 75,
   "id": "6c52e69d",
   "metadata": {
    "scrolled": true
   },
   "outputs": [
    {
     "name": "stdout",
     "output_type": "stream",
     "text": [
      "244104\n"
     ]
    },
    {
     "data": {
      "text/plain": [
       "array([  3.0132768,   0.3554111,   2.0036542, ..., 152.       ,\n",
       "       149.       , 127.       ], dtype=float32)"
      ]
     },
     "metadata": {},
     "output_type": "display_data"
    },
    {
     "name": "stdout",
     "output_type": "stream",
     "text": [
      "[[3.0132768154144287 0.3554110825061798 2.0036542415618896 123 104 75]\n",
      " [2.6280605792999268 5.600308418273926 0.053360745310783386 142 112 74]\n",
      " [1.4489927291870117 6.213598728179932 0.04371751844882965 217 193 160]\n",
      " ...\n",
      " [1.372314214706421 2.040031909942627 0.3811318576335907 126 133 112]\n",
      " [7.703465461730957 3.6945302486419678 0.03488456830382347 101 89 69]\n",
      " [4.1018829345703125 0.7362340092658997 2.1463372707366943 152 149 127]]\n"
     ]
    }
   ],
   "source": [
    "bin_pcd = np.fromfile(\"scene2.bin\", dtype=np.float32)\n",
    "print(len(bin_pcd))\n",
    "display(bin_pcd)\n",
    "xyz = bin_pcd.reshape(-1, 6)[:, 0:3]\n",
    "abc = np.asarray(bin_pcd.reshape((-1, 6))[:, 3:6], dtype = int)\n",
    "points = np.concatenate((xyz,abc),  axis=1, dtype=object)\n",
    "\n",
    "print(points)\n"
   ]
  }
 ],
 "metadata": {
  "kernelspec": {
   "display_name": "Python 3 (ipykernel)",
   "language": "python",
   "name": "python3"
  },
  "language_info": {
   "codemirror_mode": {
    "name": "ipython",
    "version": 3
   },
   "file_extension": ".py",
   "mimetype": "text/x-python",
   "name": "python",
   "nbconvert_exporter": "python",
   "pygments_lexer": "ipython3",
   "version": "3.9.7"
  }
 },
 "nbformat": 4,
 "nbformat_minor": 5
}
